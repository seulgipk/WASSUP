{
 "cells": [
  {
   "cell_type": "markdown",
   "metadata": {},
   "source": [
    "# 전화번호 프로그램 만들기\n",
    "\n",
    "* 홍길동 010-123-4567\n",
    "* 기능1 : 연락처 추가\n",
    "* 기능2 : 연락처 전체 보기\n",
    "* 기능3 : 검색, 이름을 입력받아서 전화번호 조회\n",
    "* 기능4 : 수정, 이름을 입력받아서 전화번호 입력수정\n",
    "* 기능5 : 삭제, 이름 입력받아서 삭제\n",
    "* 기능6 : 프로그램 종료"
   ]
  },
  {
   "cell_type": "markdown",
   "metadata": {},
   "source": [
    "## 요구사항 분석 및 설계"
   ]
  },
  {
   "cell_type": "markdown",
   "metadata": {},
   "source": [
    "* 요구사항 분석 -> 구체적인 동작 정의\n",
    "* I/O 설계\n",
    "* 이름, 번호 -> 딕셔너리\n",
    "* input  , str\n",
    "* 프로그램: while 반복\n",
    "* 기능 1, 2, 3, 4, 5: if 분기문, 숫자 입력시 해당 기능이 동작\n",
    "\n",
    "* 기능 1 연락처 추가: dic 추가, dic[key]=value\n",
    "* 기능 2 보기: for문 돌려서 출력\n",
    "* 기능 3 조회:이름 입력시, 전화번호 출력, dic[key]\n",
    "* 기능 4 수정: dic[key]=value\n",
    "* 기능 5 삭제: del\n",
    "* 기능 6 종료: break\n",
    "* 예외처리\n",
    "\n",
    "* 공통된 큰 기능 먼저 구축하기 -> 점차적으로 업뎃하면서 구축"
   ]
  },
  {
   "cell_type": "code",
   "execution_count": null,
   "metadata": {},
   "outputs": [],
   "source": [
    "contact = {}\n",
    "\n",
    "while True:\n",
    "    print('----- 전화번호부 프로그램 실행 -----')\n",
    "    print('1.추가  2.전체 보기  3.조회  4. 수정  5. 삭제  9. 종료')\n",
    "    \n",
    "    try:\n",
    "        menu = int(input('메뉴선택'))\n",
    "        \n",
    "        if menu == 1:\n",
    "            print('연락처 추가 작업 실행')\n",
    "            new_name = input('이름: ')\n",
    "            new_tel = input('전화번호: ')\n",
    "            contact.setdefault(new_name, new_tel)\n",
    "        \n",
    "        elif menu == 2:\n",
    "            print('연락처 전체 보기 작업 실행')\n",
    "            for name, tel in contact.items():\n",
    "                print(name, \":\", tel)\n",
    "        \n",
    "        elif menu == 3:\n",
    "            print('연락처 조회 작업 실행')\n",
    "            search_name = input('검색 이름: ')\n",
    "            print(contact.get(search_name, '없는 역락처입니다.'))\n",
    "        \n",
    "        elif menu == 4:\n",
    "            print('연락처 수정 작업 실행')\n",
    "            # 만약에 연락처 저장소에 수정 이름이 존재하면, 저장소에서 수정\n",
    "            if mod_name in contact:\n",
    "                mod_tel = input('새전화번호: ')\n",
    "                contact[mod_name] = mod_tell\n",
    "            else:\n",
    "                print('등록되지 않은 이름입니다.')\n",
    "        \n",
    "        \n",
    "        elif menu == 5:\n",
    "            print('연락처 삭제 작업 실행')\n",
    "            del_name = input('삭제 이름')\n",
    "            # 만약에 연락처 저장소에 삭제 이름이 존재하면, 저장소에서 삭제\n",
    "            if del_name in contact:\n",
    "                del contact[del_name]\n",
    "            else:\n",
    "                print('등록되지 않은 이름입니다.')\n",
    "                # 예외 상황 고려해야함\n",
    "        \n",
    "        elif menu == 9:\n",
    "            print('연락처 종료 작업 실행')\n",
    "            break\n",
    "        \n",
    "        else :\n",
    "            print('잘못된 메뉴 선택입니다.')\n",
    "            \n",
    "    except :\n",
    "        print('잘못된 입력입니다.')\n"
   ]
  }
 ],
 "metadata": {
  "kernelspec": {
   "display_name": "Python 3 (ipykernel)",
   "language": "python",
   "name": "python3"
  },
  "language_info": {
   "codemirror_mode": {
    "name": "ipython",
    "version": 3
   },
   "file_extension": ".py",
   "mimetype": "text/x-python",
   "name": "python",
   "nbconvert_exporter": "python",
   "pygments_lexer": "ipython3",
   "version": "3.11.5"
  },
  "toc": {
   "base_numbering": 1,
   "nav_menu": {},
   "number_sections": true,
   "sideBar": true,
   "skip_h1_title": false,
   "title_cell": "Table of Contents",
   "title_sidebar": "Contents",
   "toc_cell": false,
   "toc_position": {},
   "toc_section_display": true,
   "toc_window_display": false
  },
  "varInspector": {
   "cols": {
    "lenName": 16,
    "lenType": 16,
    "lenVar": 40
   },
   "kernels_config": {
    "python": {
     "delete_cmd_postfix": "",
     "delete_cmd_prefix": "del ",
     "library": "var_list.py",
     "varRefreshCmd": "print(var_dic_list())"
    },
    "r": {
     "delete_cmd_postfix": ") ",
     "delete_cmd_prefix": "rm(",
     "library": "var_list.r",
     "varRefreshCmd": "cat(var_dic_list()) "
    }
   },
   "types_to_exclude": [
    "module",
    "function",
    "builtin_function_or_method",
    "instance",
    "_Feature"
   ],
   "window_display": false
  }
 },
 "nbformat": 4,
 "nbformat_minor": 2
}
