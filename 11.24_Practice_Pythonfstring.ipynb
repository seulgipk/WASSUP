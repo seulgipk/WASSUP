{
 "cells": [
  {
   "cell_type": "markdown",
   "id": "fb7b48af",
   "metadata": {
    "ExecuteTime": {
     "end_time": "2023-11-24T07:57:55.408592Z",
     "start_time": "2023-11-24T07:57:55.405968Z"
    }
   },
   "source": [
    "# 1~10 파이썬 시작하기"
   ]
  },
  {
   "cell_type": "code",
   "execution_count": 9,
   "id": "e58da690",
   "metadata": {
    "ExecuteTime": {
     "end_time": "2023-11-26T05:30:17.661154Z",
     "start_time": "2023-11-26T05:30:17.658405Z"
    }
   },
   "outputs": [
    {
     "name": "stdout",
     "output_type": "stream",
     "text": [
      "신씨가 소리질렀다. \"도둑이야!\"\n"
     ]
    }
   ],
   "source": [
    "# 3번,'과 \" 구분 잘해주기\n",
    "print('신씨가 소리질렀다. \"도둑이야!\"')"
   ]
  },
  {
   "cell_type": "code",
   "execution_count": 10,
   "id": "cd7d5bb1",
   "metadata": {
    "ExecuteTime": {
     "end_time": "2023-11-26T05:30:17.665739Z",
     "start_time": "2023-11-26T05:30:17.662163Z"
    }
   },
   "outputs": [
    {
     "name": "stdout",
     "output_type": "stream",
     "text": [
      "C:\\Windows C:/Windows\n",
      "슬래시(/) 경로 : True \n",
      "백슬래시(\\) 경로 : True\n"
     ]
    }
   ],
   "source": [
    "# 4번, 경로설정할때 백슬래시가 이스케이프문자로 인식되지 않게 슬래시 ( / ) 를 써도 경로로 인식이 됨\n",
    "print('C:\\Windows', 'C:/Windows')\n",
    "\n",
    "# 경로를 설정하는 예시\n",
    "import os  # 디렉토리 설정, 확인 등에 쓰이는 os 모듈 활용\n",
    "path_1 = 'C:/workspace/python/wassup/README.md' # 슬래시 (/)를 이용한 경로설정\n",
    "path_2 = 'C:\\workspace\\python\\wassup\\README.md' # 백슬래시 (\\)를 이용한 경로설정\n",
    "print(f'슬래시(/) 경로 : {os.path.exists(path_1)} \\n백슬래시(\\) 경로 : {os.path.exists(path_2)}')\n",
    "# 둘다 사용 가능하지만 백슬래시 (\\)는 이스케이프 문자로도 쓰이므로 경로설정할땐 보통 슬래시 (/)를 사용함"
   ]
  },
  {
   "cell_type": "code",
   "execution_count": 11,
   "id": "e6e0e748",
   "metadata": {
    "ExecuteTime": {
     "end_time": "2023-11-26T05:30:17.669246Z",
     "start_time": "2023-11-26T05:30:17.665739Z"
    }
   },
   "outputs": [
    {
     "name": "stdout",
     "output_type": "stream",
     "text": [
      "안녕하세요.\n",
      "만나서\t\t반갑습니다.\n"
     ]
    }
   ],
   "source": [
    "# 5번, 탭 (들여쓰기)를 쓰는 상황에 익숙해지기 -> print보다는 코드사용할때 들여쓰기가 많이쓰임\n",
    "print(\"안녕하세요.\\n만나서\\t\\t반갑습니다.\")"
   ]
  },
  {
   "cell_type": "code",
   "execution_count": 12,
   "id": "62da519d",
   "metadata": {
    "ExecuteTime": {
     "end_time": "2023-11-26T05:30:17.674597Z",
     "start_time": "2023-11-26T05:30:17.671459Z"
    }
   },
   "outputs": [
    {
     "name": "stdout",
     "output_type": "stream",
     "text": [
      "naver;kakao;samsung\n",
      "naver;kakao;samsung\n",
      "naver/kakao/samsung\n",
      "naver/kakao/samsung\n"
     ]
    }
   ],
   "source": [
    "# 7번 & 8번, join을 사용해도 됨\n",
    "a = (\"naver\", \"kakao\", \"samsung\")\n",
    "b = \";\".join(a)\n",
    "print(\"naver\", \"kakao\", \"samsung\", sep=\";\")\n",
    "print(b)\n",
    "\n",
    "a = ('naver','kakao','samsung')\n",
    "b = \"/\".join(a)\n",
    "print(\"naver\", \"kakao\", \"samsung\", sep=\"/\")\n",
    "print(b)"
   ]
  },
  {
   "cell_type": "code",
   "execution_count": 13,
   "id": "848e25fc",
   "metadata": {
    "ExecuteTime": {
     "end_time": "2023-11-26T05:30:17.678616Z",
     "start_time": "2023-11-26T05:30:17.675606Z"
    }
   },
   "outputs": [
    {
     "name": "stdout",
     "output_type": "stream",
     "text": [
      "720.001 <class 'float'>\n"
     ]
    }
   ],
   "source": [
    "# 16번, int말고 float으로도 변환할 수 있음, 연산값을 출력하여 제대로 되어있는지 확인\n",
    "num_str = \"720\"  \n",
    "num_float = float(num_str)\n",
    "print(num_float+0.001, type(num_float))"
   ]
  },
  {
   "cell_type": "code",
   "execution_count": 17,
   "id": "7dd7e56a",
   "metadata": {
    "ExecuteTime": {
     "end_time": "2023-11-26T05:30:17.682916Z",
     "start_time": "2023-11-26T05:30:17.679621Z"
    }
   },
   "outputs": [
    {
     "name": "stdout",
     "output_type": "stream",
     "text": [
      "('A', 'b', 'c')\n",
      "('A', 'b', 'c')\n"
     ]
    }
   ],
   "source": [
    "#076, 튜플은 불변이므로 리스트, str로 바꿔준다음 수정하는방법도 있음\n",
    "t = ('a', 'b', 'c')\n",
    "t = list(t)\n",
    "t[0] = 'A'\n",
    "t = tuple(t)\n",
    "print(t)\n",
    "t = str(t)\n",
    "t.replace('a','A')\n",
    "print(t)"
   ]
  },
  {
   "cell_type": "code",
   "execution_count": null,
   "id": "dd18ad8c",
   "metadata": {},
   "outputs": [],
   "source": []
  },
  {
   "cell_type": "markdown",
   "id": "a686e84d",
   "metadata": {},
   "source": [
    "#  Bonus. f문자열을 적용하는 사례"
   ]
  },
  {
   "cell_type": "code",
   "execution_count": 15,
   "id": "9b22b7a1",
   "metadata": {
    "ExecuteTime": {
     "end_time": "2023-11-26T05:30:17.687432Z",
     "start_time": "2023-11-26T05:30:17.683923Z"
    }
   },
   "outputs": [
    {
     "data": {
      "text/plain": [
       "'지금은 2023-11-26 15:10:08.742168입니다'"
      ]
     },
     "execution_count": 15,
     "metadata": {},
     "output_type": "execute_result"
    }
   ],
   "source": [
    "from datetime import datetime # 파이썬 내장 함수인 datetime 임포트\n",
    "\n",
    "# f문자열을 출력할때마다 현재시간이 출력됨\n",
    "time_now = datetime.now()\n",
    "f'지금은 {time_now}입니다'"
   ]
  },
  {
   "cell_type": "code",
   "execution_count": 16,
   "id": "233e002f",
   "metadata": {
    "ExecuteTime": {
     "end_time": "2023-11-26T05:31:12.944442Z",
     "start_time": "2023-11-26T05:31:12.941307Z"
    }
   },
   "outputs": [
    {
     "name": "stdout",
     "output_type": "stream",
     "text": [
      "올해는 2023년, 이번달은 11월, 오늘은 26일.\n",
      "현재 시간은 15시 10분 8초\n"
     ]
    }
   ],
   "source": [
    "# datetime을 다양하게 활용하여 원하는 날짜형식, 시간 등을 출력할때마다 표현할 수 있음\n",
    "\n",
    "time_now = datetime.now()\n",
    "year = time_now.year\n",
    "month = time_now.month\n",
    "day = time_now.day\n",
    "hour, min, sec = time_now.hour, time_now.minute, time_now.second\n",
    "print(f'올해는 {year}년, 이번달은 {month}월, 오늘은 {day}일.\\n현재 시간은 {hour}시 {min}분 {sec}초')"
   ]
  },
  {
   "cell_type": "code",
   "execution_count": null,
   "id": "729482cb",
   "metadata": {},
   "outputs": [],
   "source": []
  }
 ],
 "metadata": {
  "kernelspec": {
   "display_name": "Python 3 (ipykernel)",
   "language": "python",
   "name": "python3"
  },
  "language_info": {
   "codemirror_mode": {
    "name": "ipython",
    "version": 3
   },
   "file_extension": ".py",
   "mimetype": "text/x-python",
   "name": "python",
   "nbconvert_exporter": "python",
   "pygments_lexer": "ipython3",
   "version": "3.11.5"
  },
  "toc": {
   "base_numbering": 1,
   "nav_menu": {},
   "number_sections": true,
   "sideBar": true,
   "skip_h1_title": false,
   "title_cell": "Table of Contents",
   "title_sidebar": "Contents",
   "toc_cell": false,
   "toc_position": {},
   "toc_section_display": true,
   "toc_window_display": false
  }
 },
 "nbformat": 4,
 "nbformat_minor": 5
}
